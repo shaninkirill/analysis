{
 "cells": [
  {
   "cell_type": "markdown",
   "id": "828930cf",
   "metadata": {},
   "source": [
    "# Анализ демографической ситуации в России"
   ]
  },
  {
   "cell_type": "markdown",
   "id": "755a2470",
   "metadata": {},
   "source": [
    "## Импортируем необходимые библиотеки"
   ]
  },
  {
   "cell_type": "code",
   "execution_count": 127,
   "id": "e9a51735",
   "metadata": {},
   "outputs": [],
   "source": [
    "import pandas as pd\n",
    "import seaborn as sns\n",
    "import matplotlib\n",
    "import matplotlib.pyplot as plt\n",
    "import numpy as np"
   ]
  },
  {
   "cell_type": "markdown",
   "id": "e1f652c9",
   "metadata": {},
   "source": [
    "#### Данные были взяты с Росстата, но т.к. они были в неудобном для анализа состоянии, пришлось предобработать их в Excel"
   ]
  },
  {
   "cell_type": "code",
   "execution_count": 4,
   "id": "b2af1914",
   "metadata": {},
   "outputs": [],
   "source": [
    "df_population = pd.read_excel('population_size.xlsx')\n",
    "df_men_women = pd.read_excel('number_of_men_and_women.xlsx')\n",
    "df_born_dead = pd.read_excel('born_and_dead.xlsx')"
   ]
  },
  {
   "cell_type": "markdown",
   "id": "4a9df21a",
   "metadata": {},
   "source": [
    "### Посмотрим, что содержится в каждом датафрейме"
   ]
  },
  {
   "cell_type": "code",
   "execution_count": 5,
   "id": "aeef9ed9",
   "metadata": {},
   "outputs": [
    {
     "data": {
      "text/html": [
       "<div>\n",
       "<style scoped>\n",
       "    .dataframe tbody tr th:only-of-type {\n",
       "        vertical-align: middle;\n",
       "    }\n",
       "\n",
       "    .dataframe tbody tr th {\n",
       "        vertical-align: top;\n",
       "    }\n",
       "\n",
       "    .dataframe thead th {\n",
       "        text-align: right;\n",
       "    }\n",
       "</style>\n",
       "<table border=\"1\" class=\"dataframe\">\n",
       "  <thead>\n",
       "    <tr style=\"text-align: right;\">\n",
       "      <th></th>\n",
       "      <th>year</th>\n",
       "      <th>quantity</th>\n",
       "    </tr>\n",
       "  </thead>\n",
       "  <tbody>\n",
       "    <tr>\n",
       "      <th>0</th>\n",
       "      <td>2003</td>\n",
       "      <td>145.0</td>\n",
       "    </tr>\n",
       "    <tr>\n",
       "      <th>1</th>\n",
       "      <td>2004</td>\n",
       "      <td>144.3</td>\n",
       "    </tr>\n",
       "    <tr>\n",
       "      <th>2</th>\n",
       "      <td>2005</td>\n",
       "      <td>143.8</td>\n",
       "    </tr>\n",
       "    <tr>\n",
       "      <th>3</th>\n",
       "      <td>2006</td>\n",
       "      <td>143.2</td>\n",
       "    </tr>\n",
       "    <tr>\n",
       "      <th>4</th>\n",
       "      <td>2007</td>\n",
       "      <td>142.8</td>\n",
       "    </tr>\n",
       "  </tbody>\n",
       "</table>\n",
       "</div>"
      ],
      "text/plain": [
       "   year  quantity\n",
       "0  2003     145.0\n",
       "1  2004     144.3\n",
       "2  2005     143.8\n",
       "3  2006     143.2\n",
       "4  2007     142.8"
      ]
     },
     "execution_count": 5,
     "metadata": {},
     "output_type": "execute_result"
    }
   ],
   "source": [
    "df_population.head()"
   ]
  },
  {
   "cell_type": "code",
   "execution_count": 6,
   "id": "8c4329c1",
   "metadata": {},
   "outputs": [
    {
     "data": {
      "text/html": [
       "<div>\n",
       "<style scoped>\n",
       "    .dataframe tbody tr th:only-of-type {\n",
       "        vertical-align: middle;\n",
       "    }\n",
       "\n",
       "    .dataframe tbody tr th {\n",
       "        vertical-align: top;\n",
       "    }\n",
       "\n",
       "    .dataframe thead th {\n",
       "        text-align: right;\n",
       "    }\n",
       "</style>\n",
       "<table border=\"1\" class=\"dataframe\">\n",
       "  <thead>\n",
       "    <tr style=\"text-align: right;\">\n",
       "      <th></th>\n",
       "      <th>year</th>\n",
       "      <th>men</th>\n",
       "      <th>women</th>\n",
       "    </tr>\n",
       "  </thead>\n",
       "  <tbody>\n",
       "    <tr>\n",
       "      <th>0</th>\n",
       "      <td>2003</td>\n",
       "      <td>67.5</td>\n",
       "      <td>77.5</td>\n",
       "    </tr>\n",
       "    <tr>\n",
       "      <th>1</th>\n",
       "      <td>2004</td>\n",
       "      <td>67.0</td>\n",
       "      <td>77.3</td>\n",
       "    </tr>\n",
       "    <tr>\n",
       "      <th>2</th>\n",
       "      <td>2005</td>\n",
       "      <td>66.7</td>\n",
       "      <td>77.1</td>\n",
       "    </tr>\n",
       "    <tr>\n",
       "      <th>3</th>\n",
       "      <td>2006</td>\n",
       "      <td>66.3</td>\n",
       "      <td>76.9</td>\n",
       "    </tr>\n",
       "    <tr>\n",
       "      <th>4</th>\n",
       "      <td>2007</td>\n",
       "      <td>66.0</td>\n",
       "      <td>76.8</td>\n",
       "    </tr>\n",
       "  </tbody>\n",
       "</table>\n",
       "</div>"
      ],
      "text/plain": [
       "   year   men  women\n",
       "0  2003  67.5   77.5\n",
       "1  2004  67.0   77.3\n",
       "2  2005  66.7   77.1\n",
       "3  2006  66.3   76.9\n",
       "4  2007  66.0   76.8"
      ]
     },
     "execution_count": 6,
     "metadata": {},
     "output_type": "execute_result"
    }
   ],
   "source": [
    "df_men_women.head()"
   ]
  },
  {
   "cell_type": "code",
   "execution_count": 8,
   "id": "977641ed",
   "metadata": {},
   "outputs": [
    {
     "data": {
      "text/html": [
       "<div>\n",
       "<style scoped>\n",
       "    .dataframe tbody tr th:only-of-type {\n",
       "        vertical-align: middle;\n",
       "    }\n",
       "\n",
       "    .dataframe tbody tr th {\n",
       "        vertical-align: top;\n",
       "    }\n",
       "\n",
       "    .dataframe thead th {\n",
       "        text-align: right;\n",
       "    }\n",
       "</style>\n",
       "<table border=\"1\" class=\"dataframe\">\n",
       "  <thead>\n",
       "    <tr style=\"text-align: right;\">\n",
       "      <th></th>\n",
       "      <th>year</th>\n",
       "      <th>born</th>\n",
       "      <th>dead</th>\n",
       "    </tr>\n",
       "  </thead>\n",
       "  <tbody>\n",
       "    <tr>\n",
       "      <th>0</th>\n",
       "      <td>2003</td>\n",
       "      <td>426736</td>\n",
       "      <td>708257</td>\n",
       "    </tr>\n",
       "    <tr>\n",
       "      <th>1</th>\n",
       "      <td>2004</td>\n",
       "      <td>428230</td>\n",
       "      <td>688508</td>\n",
       "    </tr>\n",
       "    <tr>\n",
       "      <th>2</th>\n",
       "      <td>2005</td>\n",
       "      <td>420506</td>\n",
       "      <td>708173</td>\n",
       "    </tr>\n",
       "    <tr>\n",
       "      <th>3</th>\n",
       "      <td>2006</td>\n",
       "      <td>435097</td>\n",
       "      <td>665458</td>\n",
       "    </tr>\n",
       "    <tr>\n",
       "      <th>4</th>\n",
       "      <td>2007</td>\n",
       "      <td>489381</td>\n",
       "      <td>635034</td>\n",
       "    </tr>\n",
       "  </tbody>\n",
       "</table>\n",
       "</div>"
      ],
      "text/plain": [
       "   year    born    dead\n",
       "0  2003  426736  708257\n",
       "1  2004  428230  688508\n",
       "2  2005  420506  708173\n",
       "3  2006  435097  665458\n",
       "4  2007  489381  635034"
      ]
     },
     "execution_count": 8,
     "metadata": {},
     "output_type": "execute_result"
    }
   ],
   "source": [
    "df_born_dead.head()"
   ]
  },
  {
   "cell_type": "code",
   "execution_count": 9,
   "id": "933c951e",
   "metadata": {},
   "outputs": [
    {
     "data": {
      "text/html": [
       "<div>\n",
       "<style scoped>\n",
       "    .dataframe tbody tr th:only-of-type {\n",
       "        vertical-align: middle;\n",
       "    }\n",
       "\n",
       "    .dataframe tbody tr th {\n",
       "        vertical-align: top;\n",
       "    }\n",
       "\n",
       "    .dataframe thead th {\n",
       "        text-align: right;\n",
       "    }\n",
       "</style>\n",
       "<table border=\"1\" class=\"dataframe\">\n",
       "  <thead>\n",
       "    <tr style=\"text-align: right;\">\n",
       "      <th></th>\n",
       "      <th>year</th>\n",
       "      <th>quantity</th>\n",
       "    </tr>\n",
       "  </thead>\n",
       "  <tbody>\n",
       "    <tr>\n",
       "      <th>16</th>\n",
       "      <td>2019</td>\n",
       "      <td>146.8</td>\n",
       "    </tr>\n",
       "    <tr>\n",
       "      <th>17</th>\n",
       "      <td>2020</td>\n",
       "      <td>146.7</td>\n",
       "    </tr>\n",
       "    <tr>\n",
       "      <th>18</th>\n",
       "      <td>2021</td>\n",
       "      <td>146.2</td>\n",
       "    </tr>\n",
       "    <tr>\n",
       "      <th>19</th>\n",
       "      <td>2022</td>\n",
       "      <td>147.0</td>\n",
       "    </tr>\n",
       "    <tr>\n",
       "      <th>20</th>\n",
       "      <td>2023</td>\n",
       "      <td>146.4</td>\n",
       "    </tr>\n",
       "  </tbody>\n",
       "</table>\n",
       "</div>"
      ],
      "text/plain": [
       "    year  quantity\n",
       "16  2019     146.8\n",
       "17  2020     146.7\n",
       "18  2021     146.2\n",
       "19  2022     147.0\n",
       "20  2023     146.4"
      ]
     },
     "execution_count": 9,
     "metadata": {},
     "output_type": "execute_result"
    }
   ],
   "source": [
    "df_population.tail()"
   ]
  },
  {
   "cell_type": "code",
   "execution_count": 10,
   "id": "d49bddf7",
   "metadata": {},
   "outputs": [
    {
     "data": {
      "text/html": [
       "<div>\n",
       "<style scoped>\n",
       "    .dataframe tbody tr th:only-of-type {\n",
       "        vertical-align: middle;\n",
       "    }\n",
       "\n",
       "    .dataframe tbody tr th {\n",
       "        vertical-align: top;\n",
       "    }\n",
       "\n",
       "    .dataframe thead th {\n",
       "        text-align: right;\n",
       "    }\n",
       "</style>\n",
       "<table border=\"1\" class=\"dataframe\">\n",
       "  <thead>\n",
       "    <tr style=\"text-align: right;\">\n",
       "      <th></th>\n",
       "      <th>year</th>\n",
       "      <th>men</th>\n",
       "      <th>women</th>\n",
       "    </tr>\n",
       "  </thead>\n",
       "  <tbody>\n",
       "    <tr>\n",
       "      <th>16</th>\n",
       "      <td>2019</td>\n",
       "      <td>68.1</td>\n",
       "      <td>78.7</td>\n",
       "    </tr>\n",
       "    <tr>\n",
       "      <th>17</th>\n",
       "      <td>2020</td>\n",
       "      <td>68.1</td>\n",
       "      <td>78.6</td>\n",
       "    </tr>\n",
       "    <tr>\n",
       "      <th>18</th>\n",
       "      <td>2021</td>\n",
       "      <td>67.9</td>\n",
       "      <td>78.3</td>\n",
       "    </tr>\n",
       "    <tr>\n",
       "      <th>19</th>\n",
       "      <td>2022</td>\n",
       "      <td>68.4</td>\n",
       "      <td>78.6</td>\n",
       "    </tr>\n",
       "    <tr>\n",
       "      <th>20</th>\n",
       "      <td>2023</td>\n",
       "      <td>68.1</td>\n",
       "      <td>78.3</td>\n",
       "    </tr>\n",
       "  </tbody>\n",
       "</table>\n",
       "</div>"
      ],
      "text/plain": [
       "    year   men  women\n",
       "16  2019  68.1   78.7\n",
       "17  2020  68.1   78.6\n",
       "18  2021  67.9   78.3\n",
       "19  2022  68.4   78.6\n",
       "20  2023  68.1   78.3"
      ]
     },
     "execution_count": 10,
     "metadata": {},
     "output_type": "execute_result"
    }
   ],
   "source": [
    "df_men_women.tail()"
   ]
  },
  {
   "cell_type": "code",
   "execution_count": 11,
   "id": "84e05cf8",
   "metadata": {},
   "outputs": [
    {
     "data": {
      "text/html": [
       "<div>\n",
       "<style scoped>\n",
       "    .dataframe tbody tr th:only-of-type {\n",
       "        vertical-align: middle;\n",
       "    }\n",
       "\n",
       "    .dataframe tbody tr th {\n",
       "        vertical-align: top;\n",
       "    }\n",
       "\n",
       "    .dataframe thead th {\n",
       "        text-align: right;\n",
       "    }\n",
       "</style>\n",
       "<table border=\"1\" class=\"dataframe\">\n",
       "  <thead>\n",
       "    <tr style=\"text-align: right;\">\n",
       "      <th></th>\n",
       "      <th>year</th>\n",
       "      <th>born</th>\n",
       "      <th>dead</th>\n",
       "    </tr>\n",
       "  </thead>\n",
       "  <tbody>\n",
       "    <tr>\n",
       "      <th>15</th>\n",
       "      <td>2018</td>\n",
       "      <td>399113</td>\n",
       "      <td>511207</td>\n",
       "    </tr>\n",
       "    <tr>\n",
       "      <th>16</th>\n",
       "      <td>2019</td>\n",
       "      <td>365737</td>\n",
       "      <td>496657</td>\n",
       "    </tr>\n",
       "    <tr>\n",
       "      <th>17</th>\n",
       "      <td>2020</td>\n",
       "      <td>356627</td>\n",
       "      <td>569813</td>\n",
       "    </tr>\n",
       "    <tr>\n",
       "      <th>18</th>\n",
       "      <td>2021</td>\n",
       "      <td>350522</td>\n",
       "      <td>642217</td>\n",
       "    </tr>\n",
       "    <tr>\n",
       "      <th>19</th>\n",
       "      <td>2022</td>\n",
       "      <td>323371</td>\n",
       "      <td>510152</td>\n",
       "    </tr>\n",
       "  </tbody>\n",
       "</table>\n",
       "</div>"
      ],
      "text/plain": [
       "    year    born    dead\n",
       "15  2018  399113  511207\n",
       "16  2019  365737  496657\n",
       "17  2020  356627  569813\n",
       "18  2021  350522  642217\n",
       "19  2022  323371  510152"
      ]
     },
     "execution_count": 11,
     "metadata": {},
     "output_type": "execute_result"
    }
   ],
   "source": [
    "df_born_dead.tail()"
   ]
  },
  {
   "cell_type": "markdown",
   "id": "28a56bb7",
   "metadata": {},
   "source": [
    "### Соединим все данные в единый dataframe"
   ]
  },
  {
   "cell_type": "code",
   "execution_count": 16,
   "id": "daf7672f",
   "metadata": {},
   "outputs": [],
   "source": [
    "df_merge = pd.merge(df_population, df_men_women)\n",
    "df_merge = pd.merge(df_merge, df_born_dead)"
   ]
  },
  {
   "cell_type": "code",
   "execution_count": 124,
   "id": "164fb89a",
   "metadata": {},
   "outputs": [
    {
     "name": "stdout",
     "output_type": "stream",
     "text": [
      "<class 'pandas.core.frame.DataFrame'>\n",
      "Int64Index: 20 entries, 0 to 19\n",
      "Data columns (total 7 columns):\n",
      " #   Column          Non-Null Count  Dtype  \n",
      "---  ------          --------------  -----  \n",
      " 0   year            20 non-null     int64  \n",
      " 1   quantity        20 non-null     float64\n",
      " 2   men             20 non-null     float64\n",
      " 3   women           20 non-null     float64\n",
      " 4   born            20 non-null     int64  \n",
      " 5   dead            20 non-null     int64  \n",
      " 6   natural_growth  20 non-null     int64  \n",
      "dtypes: float64(3), int64(4)\n",
      "memory usage: 1.2 KB\n"
     ]
    }
   ],
   "source": [
    "df_merge.info()"
   ]
  },
  {
   "cell_type": "code",
   "execution_count": 125,
   "id": "931c0be6",
   "metadata": {},
   "outputs": [
    {
     "data": {
      "text/html": [
       "<div>\n",
       "<style scoped>\n",
       "    .dataframe tbody tr th:only-of-type {\n",
       "        vertical-align: middle;\n",
       "    }\n",
       "\n",
       "    .dataframe tbody tr th {\n",
       "        vertical-align: top;\n",
       "    }\n",
       "\n",
       "    .dataframe thead th {\n",
       "        text-align: right;\n",
       "    }\n",
       "</style>\n",
       "<table border=\"1\" class=\"dataframe\">\n",
       "  <thead>\n",
       "    <tr style=\"text-align: right;\">\n",
       "      <th></th>\n",
       "      <th>year</th>\n",
       "      <th>quantity</th>\n",
       "      <th>men</th>\n",
       "      <th>women</th>\n",
       "      <th>born</th>\n",
       "      <th>dead</th>\n",
       "      <th>natural_growth</th>\n",
       "    </tr>\n",
       "  </thead>\n",
       "  <tbody>\n",
       "    <tr>\n",
       "      <th>count</th>\n",
       "      <td>20.00000</td>\n",
       "      <td>20.000000</td>\n",
       "      <td>20.000000</td>\n",
       "      <td>20.000000</td>\n",
       "      <td>20.000000</td>\n",
       "      <td>20.000000</td>\n",
       "      <td>20.000000</td>\n",
       "    </tr>\n",
       "    <tr>\n",
       "      <th>mean</th>\n",
       "      <td>2012.50000</td>\n",
       "      <td>144.680000</td>\n",
       "      <td>67.050000</td>\n",
       "      <td>77.630000</td>\n",
       "      <td>454555.750000</td>\n",
       "      <td>589840.550000</td>\n",
       "      <td>-135284.800000</td>\n",
       "    </tr>\n",
       "    <tr>\n",
       "      <th>std</th>\n",
       "      <td>5.91608</td>\n",
       "      <td>1.744948</td>\n",
       "      <td>0.921383</td>\n",
       "      <td>0.836094</td>\n",
       "      <td>71924.942211</td>\n",
       "      <td>68338.450913</td>\n",
       "      <td>97509.814649</td>\n",
       "    </tr>\n",
       "    <tr>\n",
       "      <th>min</th>\n",
       "      <td>2003.00000</td>\n",
       "      <td>142.700000</td>\n",
       "      <td>65.900000</td>\n",
       "      <td>76.800000</td>\n",
       "      <td>323371.000000</td>\n",
       "      <td>496657.000000</td>\n",
       "      <td>-291695.000000</td>\n",
       "    </tr>\n",
       "    <tr>\n",
       "      <th>25%</th>\n",
       "      <td>2007.75000</td>\n",
       "      <td>142.975000</td>\n",
       "      <td>66.100000</td>\n",
       "      <td>76.875000</td>\n",
       "      <td>415157.750000</td>\n",
       "      <td>538495.750000</td>\n",
       "      <td>-217479.750000</td>\n",
       "    </tr>\n",
       "    <tr>\n",
       "      <th>50%</th>\n",
       "      <td>2012.50000</td>\n",
       "      <td>144.050000</td>\n",
       "      <td>66.850000</td>\n",
       "      <td>77.200000</td>\n",
       "      <td>448617.500000</td>\n",
       "      <td>569418.500000</td>\n",
       "      <td>-112696.000000</td>\n",
       "    </tr>\n",
       "    <tr>\n",
       "      <th>75%</th>\n",
       "      <td>2017.25000</td>\n",
       "      <td>146.550000</td>\n",
       "      <td>67.950000</td>\n",
       "      <td>78.600000</td>\n",
       "      <td>524317.750000</td>\n",
       "      <td>636829.750000</td>\n",
       "      <td>-70788.250000</td>\n",
       "    </tr>\n",
       "    <tr>\n",
       "      <th>max</th>\n",
       "      <td>2022.00000</td>\n",
       "      <td>147.000000</td>\n",
       "      <td>68.400000</td>\n",
       "      <td>78.800000</td>\n",
       "      <td>547823.000000</td>\n",
       "      <td>708257.000000</td>\n",
       "      <td>-792.000000</td>\n",
       "    </tr>\n",
       "  </tbody>\n",
       "</table>\n",
       "</div>"
      ],
      "text/plain": [
       "             year    quantity        men      women           born  \\\n",
       "count    20.00000   20.000000  20.000000  20.000000      20.000000   \n",
       "mean   2012.50000  144.680000  67.050000  77.630000  454555.750000   \n",
       "std       5.91608    1.744948   0.921383   0.836094   71924.942211   \n",
       "min    2003.00000  142.700000  65.900000  76.800000  323371.000000   \n",
       "25%    2007.75000  142.975000  66.100000  76.875000  415157.750000   \n",
       "50%    2012.50000  144.050000  66.850000  77.200000  448617.500000   \n",
       "75%    2017.25000  146.550000  67.950000  78.600000  524317.750000   \n",
       "max    2022.00000  147.000000  68.400000  78.800000  547823.000000   \n",
       "\n",
       "                dead  natural_growth  \n",
       "count      20.000000       20.000000  \n",
       "mean   589840.550000  -135284.800000  \n",
       "std     68338.450913    97509.814649  \n",
       "min    496657.000000  -291695.000000  \n",
       "25%    538495.750000  -217479.750000  \n",
       "50%    569418.500000  -112696.000000  \n",
       "75%    636829.750000   -70788.250000  \n",
       "max    708257.000000     -792.000000  "
      ]
     },
     "execution_count": 125,
     "metadata": {},
     "output_type": "execute_result"
    }
   ],
   "source": [
    "df_merge.describe()"
   ]
  },
  {
   "cell_type": "markdown",
   "id": "d353d072",
   "metadata": {},
   "source": [
    "### Итак, мы имеем год, численность населения (в млн), численность мужчин и женщин (в млн), количество умерших и рожденных"
   ]
  },
  {
   "cell_type": "code",
   "execution_count": 17,
   "id": "454839a2",
   "metadata": {},
   "outputs": [
    {
     "data": {
      "text/html": [
       "<div>\n",
       "<style scoped>\n",
       "    .dataframe tbody tr th:only-of-type {\n",
       "        vertical-align: middle;\n",
       "    }\n",
       "\n",
       "    .dataframe tbody tr th {\n",
       "        vertical-align: top;\n",
       "    }\n",
       "\n",
       "    .dataframe thead th {\n",
       "        text-align: right;\n",
       "    }\n",
       "</style>\n",
       "<table border=\"1\" class=\"dataframe\">\n",
       "  <thead>\n",
       "    <tr style=\"text-align: right;\">\n",
       "      <th></th>\n",
       "      <th>year</th>\n",
       "      <th>quantity</th>\n",
       "      <th>men</th>\n",
       "      <th>women</th>\n",
       "      <th>born</th>\n",
       "      <th>dead</th>\n",
       "    </tr>\n",
       "  </thead>\n",
       "  <tbody>\n",
       "    <tr>\n",
       "      <th>0</th>\n",
       "      <td>2003</td>\n",
       "      <td>145.0</td>\n",
       "      <td>67.5</td>\n",
       "      <td>77.5</td>\n",
       "      <td>426736</td>\n",
       "      <td>708257</td>\n",
       "    </tr>\n",
       "    <tr>\n",
       "      <th>1</th>\n",
       "      <td>2004</td>\n",
       "      <td>144.3</td>\n",
       "      <td>67.0</td>\n",
       "      <td>77.3</td>\n",
       "      <td>428230</td>\n",
       "      <td>688508</td>\n",
       "    </tr>\n",
       "    <tr>\n",
       "      <th>2</th>\n",
       "      <td>2005</td>\n",
       "      <td>143.8</td>\n",
       "      <td>66.7</td>\n",
       "      <td>77.1</td>\n",
       "      <td>420506</td>\n",
       "      <td>708173</td>\n",
       "    </tr>\n",
       "    <tr>\n",
       "      <th>3</th>\n",
       "      <td>2006</td>\n",
       "      <td>143.2</td>\n",
       "      <td>66.3</td>\n",
       "      <td>76.9</td>\n",
       "      <td>435097</td>\n",
       "      <td>665458</td>\n",
       "    </tr>\n",
       "    <tr>\n",
       "      <th>4</th>\n",
       "      <td>2007</td>\n",
       "      <td>142.8</td>\n",
       "      <td>66.0</td>\n",
       "      <td>76.8</td>\n",
       "      <td>489381</td>\n",
       "      <td>635034</td>\n",
       "    </tr>\n",
       "  </tbody>\n",
       "</table>\n",
       "</div>"
      ],
      "text/plain": [
       "   year  quantity   men  women    born    dead\n",
       "0  2003     145.0  67.5   77.5  426736  708257\n",
       "1  2004     144.3  67.0   77.3  428230  688508\n",
       "2  2005     143.8  66.7   77.1  420506  708173\n",
       "3  2006     143.2  66.3   76.9  435097  665458\n",
       "4  2007     142.8  66.0   76.8  489381  635034"
      ]
     },
     "execution_count": 17,
     "metadata": {},
     "output_type": "execute_result"
    }
   ],
   "source": [
    "df_merge.head()"
   ]
  },
  {
   "cell_type": "markdown",
   "id": "b2763dbd",
   "metadata": {},
   "source": [
    "### Построим графики"
   ]
  },
  {
   "cell_type": "code",
   "execution_count": 19,
   "id": "7bf87a5a",
   "metadata": {},
   "outputs": [
    {
     "data": {
      "text/plain": [
       "<Axes: xlabel='year', ylabel='quantity'>"
      ]
     },
     "execution_count": 19,
     "metadata": {},
     "output_type": "execute_result"
    },
    {
     "data": {
      "image/png": "[encoded data removed]",
      "text/plain": [
       "<Figure size 640x480 with 1 Axes>"
      ]
     },
     "metadata": {},
     "output_type": "display_data"
    }
   ],
   "source": [
    "sns.lineplot(data=df_merge, x=\"year\", y=\"quantity\")"
   ]
  },
  {
   "cell_type": "markdown",
   "id": "377d3347",
   "metadata": {},
   "source": [
    "### Можем наблюдать спад численности населения в период с 2003-2013 и рост в период с 2014-2017 года"
   ]
  },
  {
   "cell_type": "code",
   "execution_count": 24,
   "id": "fbfef0bc",
   "metadata": {},
   "outputs": [
    {
     "data": {
      "text/plain": [
       "<Axes: >"
      ]
     },
     "execution_count": 24,
     "metadata": {},
     "output_type": "execute_result"
    },
    {
     "data": {
      "image/png": "[encoded data removed]",
      "text/plain": [
       "<Figure size 640x480 with 1 Axes>"
      ]
     },
     "metadata": {},
     "output_type": "display_data"
    }
   ],
   "source": [
    "sns.lineplot(data=df_merge[['men', 'women']])"
   ]
  },
  {
   "cell_type": "markdown",
   "id": "1ff72893",
   "metadata": {},
   "source": [
    "### Численность женщин за все время превышала численност мужчин"
   ]
  },
  {
   "cell_type": "code",
   "execution_count": 120,
   "id": "9a497b54",
   "metadata": {},
   "outputs": [
    {
     "data": {
      "text/plain": [
       "<Axes: >"
      ]
     },
     "execution_count": 120,
     "metadata": {},
     "output_type": "execute_result"
    },
    {
     "data": {
      "image/png": "[encoded data removed]",
      "text/plain": [
       "<Figure size 640x480 with 1 Axes>"
      ]
     },
     "metadata": {},
     "output_type": "display_data"
    }
   ],
   "source": [
    "sns.lineplot(data=df_merge[['born', 'dead']])"
   ]
  },
  {
   "cell_type": "markdown",
   "id": "e30e5fb8",
   "metadata": {},
   "source": [
    "### В 2012-2014 можем наблюдать почти что равное количество родившихся и умерших людей. Тем не менее смертность за все времен превышала рождаемость, и, начиная с 2015 года рождаемость только падала"
   ]
  },
  {
   "cell_type": "markdown",
   "id": "71859a4d",
   "metadata": {},
   "source": [
    "### Посмотрим на естественный прирост населения, для этого вычтем из количества рожденных количество умерших людей"
   ]
  },
  {
   "cell_type": "code",
   "execution_count": 26,
   "id": "7cc4bcbb",
   "metadata": {},
   "outputs": [
    {
     "data": {
      "text/html": [
       "<div>\n",
       "<style scoped>\n",
       "    .dataframe tbody tr th:only-of-type {\n",
       "        vertical-align: middle;\n",
       "    }\n",
       "\n",
       "    .dataframe tbody tr th {\n",
       "        vertical-align: top;\n",
       "    }\n",
       "\n",
       "    .dataframe thead th {\n",
       "        text-align: right;\n",
       "    }\n",
       "</style>\n",
       "<table border=\"1\" class=\"dataframe\">\n",
       "  <thead>\n",
       "    <tr style=\"text-align: right;\">\n",
       "      <th></th>\n",
       "      <th>year</th>\n",
       "      <th>quantity</th>\n",
       "      <th>men</th>\n",
       "      <th>women</th>\n",
       "      <th>born</th>\n",
       "      <th>dead</th>\n",
       "      <th>natural_growth</th>\n",
       "    </tr>\n",
       "  </thead>\n",
       "  <tbody>\n",
       "    <tr>\n",
       "      <th>0</th>\n",
       "      <td>2003</td>\n",
       "      <td>145.0</td>\n",
       "      <td>67.5</td>\n",
       "      <td>77.5</td>\n",
       "      <td>426736</td>\n",
       "      <td>708257</td>\n",
       "      <td>-281521</td>\n",
       "    </tr>\n",
       "    <tr>\n",
       "      <th>1</th>\n",
       "      <td>2004</td>\n",
       "      <td>144.3</td>\n",
       "      <td>67.0</td>\n",
       "      <td>77.3</td>\n",
       "      <td>428230</td>\n",
       "      <td>688508</td>\n",
       "      <td>-260278</td>\n",
       "    </tr>\n",
       "    <tr>\n",
       "      <th>2</th>\n",
       "      <td>2005</td>\n",
       "      <td>143.8</td>\n",
       "      <td>66.7</td>\n",
       "      <td>77.1</td>\n",
       "      <td>420506</td>\n",
       "      <td>708173</td>\n",
       "      <td>-287667</td>\n",
       "    </tr>\n",
       "    <tr>\n",
       "      <th>3</th>\n",
       "      <td>2006</td>\n",
       "      <td>143.2</td>\n",
       "      <td>66.3</td>\n",
       "      <td>76.9</td>\n",
       "      <td>435097</td>\n",
       "      <td>665458</td>\n",
       "      <td>-230361</td>\n",
       "    </tr>\n",
       "    <tr>\n",
       "      <th>4</th>\n",
       "      <td>2007</td>\n",
       "      <td>142.8</td>\n",
       "      <td>66.0</td>\n",
       "      <td>76.8</td>\n",
       "      <td>489381</td>\n",
       "      <td>635034</td>\n",
       "      <td>-145653</td>\n",
       "    </tr>\n",
       "  </tbody>\n",
       "</table>\n",
       "</div>"
      ],
      "text/plain": [
       "   year  quantity   men  women    born    dead  natural_growth\n",
       "0  2003     145.0  67.5   77.5  426736  708257         -281521\n",
       "1  2004     144.3  67.0   77.3  428230  688508         -260278\n",
       "2  2005     143.8  66.7   77.1  420506  708173         -287667\n",
       "3  2006     143.2  66.3   76.9  435097  665458         -230361\n",
       "4  2007     142.8  66.0   76.8  489381  635034         -145653"
      ]
     },
     "execution_count": 26,
     "metadata": {},
     "output_type": "execute_result"
    }
   ],
   "source": [
    "df_merge['natural_growth'] = df_merge['born'] - df_merge['dead']\n",
    "df_merge.head()"
   ]
  },
  {
   "cell_type": "code",
   "execution_count": 27,
   "id": "8514a207",
   "metadata": {},
   "outputs": [
    {
     "data": {
      "text/plain": [
       "<Axes: xlabel='year', ylabel='natural_growth'>"
      ]
     },
     "execution_count": 27,
     "metadata": {},
     "output_type": "execute_result"
    },
    {
     "data": {
      "image/png": "[encoded data removed]",
      "text/plain": [
       "<Figure size 640x480 with 1 Axes>"
      ]
     },
     "metadata": {},
     "output_type": "display_data"
    }
   ],
   "source": [
    "sns.lineplot(data=df_merge, x='year', y='natural_growth')"
   ]
  },
  {
   "cell_type": "markdown",
   "id": "49275269",
   "metadata": {},
   "source": [
    "### Наблюдаем отрицательные значения на всем промежутке. Естественный прирост стремился к положительной отметки до 2014, однако после 2014 года все больше уменьшался "
   ]
  },
  {
   "cell_type": "markdown",
   "id": "d75c8fcf",
   "metadata": {},
   "source": [
    "### Посомтрим на корреляцию данных. Возможно, заметим какие-нибудь удивительные тенденции"
   ]
  },
  {
   "cell_type": "code",
   "execution_count": 30,
   "id": "c5a4287e",
   "metadata": {},
   "outputs": [
    {
     "data": {
      "text/plain": [
       "<Axes: >"
      ]
     },
     "execution_count": 30,
     "metadata": {},
     "output_type": "execute_result"
    },
    {
     "data": {
      "image/png": "[encoded data removed]",
      "text/plain": [
       "<Figure size 1400x700 with 2 Axes>"
      ]
     },
     "metadata": {},
     "output_type": "display_data"
    }
   ],
   "source": [
    "correlation = df_merge.corr().round(1)\n",
    "plt.figure(figsize = (14,7))\n",
    "sns.heatmap(correlation, annot = True, cmap = 'YlOrBr')"
   ]
  },
  {
   "cell_type": "markdown",
   "id": "fad5f2d6",
   "metadata": {},
   "source": [
    "### К сожалению, ничего необычного здесь нет"
   ]
  },
  {
   "cell_type": "markdown",
   "id": "ca854c99",
   "metadata": {},
   "source": [
    "### Стало интересно сколько на 1000 мужчин приходится женщин. Чтобы далеко не ходить, возьмем их среднее "
   ]
  },
  {
   "cell_type": "code",
   "execution_count": 130,
   "id": "ba1a57dc",
   "metadata": {},
   "outputs": [
    {
     "data": {
      "text/plain": [
       "1158"
      ]
     },
     "execution_count": 130,
     "metadata": {},
     "output_type": "execute_result"
    }
   ],
   "source": [
    "men_mean = np.mean(df_merge['men'])\n",
    "women_mean = np.mean(df_merge['women'])\n",
    "\n",
    "result = round(women_mean / men_mean * 1000)\n",
    "result"
   ]
  },
  {
   "cell_type": "markdown",
   "id": "45ebd7be",
   "metadata": {},
   "source": [
    "### В среднем за все года на 1000 мужчин приходилось 1158 женщин"
   ]
  },
  {
   "cell_type": "markdown",
   "id": "4261eda1",
   "metadata": {},
   "source": [
    "# Заключение"
   ]
  },
  {
   "cell_type": "markdown",
   "id": "1566eda0",
   "metadata": {},
   "source": [
    "## Анализировались численность населения, в том числе по полам, рождаемость и смертность за последнии 20 лет. К сожалению, данных достаточно мало, чтобы спрогнозировать моделями машинного обучения. Итак, мы имеем:\n",
    "## 1. Спад численности населения в период с 2003-2013 и рост в период с 2014-2017 года\n",
    "## 2. Численность насления в среднем равнялась 144.68 млн \n",
    "## 3. Численность женщин за все анализируемое время превышала численность мужчин\n",
    "## 4. Смертность за все временя превышала рождаемость, и, начиная с 2015 года рождаемость только падала\n",
    "## 5. Естественный прирост населения за последние 20 лет был только отрицательным (в 2014 почти что равнялся 0) и становится все меньше с каждым годом\n",
    "## 6. В среднем за все анализируемые года на 1000 мужчин приходилось 1158 женщин\n",
    "\n",
    "## Таким образом, можно сделать вывод, что в настоящее время мы наблюдаем отрицательную демографическую динамику"
   ]
  },
  {
   "cell_type": "code",
   "execution_count": null,
   "id": "8fd7df6b",
   "metadata": {},
   "outputs": [],
   "source": []
  }
 ],
 "metadata": {
  "kernelspec": {
   "display_name": "Python 3 (ipykernel)",
   "language": "python",
   "name": "python3"
  },
  "language_info": {
   "codemirror_mode": {
    "name": "ipython",
    "version": 3
   },
   "file_extension": ".py",
   "mimetype": "text/x-python",
   "name": "python",
   "nbconvert_exporter": "python",
   "pygments_lexer": "ipython3",
   "version": "3.10.9"
  }
 },
 "nbformat": 4,
 "nbformat_minor": 5
}
